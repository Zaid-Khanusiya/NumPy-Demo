{
 "cells": [
  {
   "cell_type": "code",
   "execution_count": 1,
   "id": "9bbb9ced",
   "metadata": {},
   "outputs": [],
   "source": [
    "import numpy as np"
   ]
  },
  {
   "cell_type": "code",
   "execution_count": 2,
   "id": "a060a34d",
   "metadata": {},
   "outputs": [
    {
     "name": "stdout",
     "output_type": "stream",
     "text": [
      "[[11 22 33]\n",
      " [44 55 66]]\n"
     ]
    }
   ],
   "source": [
    "# basic same dimension array addition without bradcasting\n",
    "\n",
    "a = np.array([[1, 2, 3],\n",
    "              [4, 5, 6]])   # shape (2,3)\n",
    "\n",
    "b = np.array([[10, 20, 30],\n",
    "              [40, 50, 60]])  # shape (2,3)\n",
    "\n",
    "c = a + b\n",
    "print(c)"
   ]
  },
  {
   "cell_type": "code",
   "execution_count": 4,
   "id": "cdfd1061",
   "metadata": {},
   "outputs": [
    {
     "name": "stdout",
     "output_type": "stream",
     "text": [
      "a shape: (5, 1)\n",
      "b shape: (5, 4)\n",
      "a: [[10]\n",
      " [20]\n",
      " [30]\n",
      " [40]\n",
      " [50]]\n",
      "b: [[1. 1. 1. 1.]\n",
      " [1. 1. 1. 1.]\n",
      " [1. 1. 1. 1.]\n",
      " [1. 1. 1. 1.]\n",
      " [1. 1. 1. 1.]]\n",
      "c shape: (5, 4)\n",
      "c: [[11. 11. 11. 11.]\n",
      " [21. 21. 21. 21.]\n",
      " [31. 31. 31. 31.]\n",
      " [41. 41. 41. 41.]\n",
      " [51. 51. 51. 51.]]\n"
     ]
    }
   ],
   "source": [
    "# now broadcasting\n",
    "a = np.array([10, 20, 30, 40, 50]).reshape(5,1)   # shape (5,)\n",
    "b = np.ones((5, 4))   # shape (5,4)\n",
    "print(\"a shape:\", a.shape)   # (5,)\n",
    "print(\"b shape:\", b.shape)   # (5,4)\n",
    "print('a:',a)\n",
    "print('b:',b)\n",
    "c = a + b\n",
    "print(\"c shape:\", c.shape)   # (5,4)\n",
    "print('c:',c)"
   ]
  },
  {
   "cell_type": "code",
   "execution_count": 5,
   "id": "ee9860a7",
   "metadata": {},
   "outputs": [
    {
     "data": {
      "text/plain": [
       "'\\nNumPy Broadcasting Rules\\n\\t1.\\tAlign shapes from right → left\\n\\t•\\tIf shapes don’t have same length, pad the smaller one with 1s on the left.\\n\\t2.\\tDimension compatibility\\n\\t•\\t✅ Dimensions are equal\\n\\t•\\t✅ OR one of them is 1\\n\\t•\\t❌ Otherwise → error\\n\\t3.\\tStretch where dimension = 1\\n\\t•\\tNumPy repeats the data along that axis to match the bigger size.\\n\\t4.\\tFinal output shape\\n\\t•\\tTake the largest size in each dimension after broadcasting.\\n\\nQuick Examples\\n•\\t(5, 3) + (3,) → (5, 3)\\n•\\t(5, 1) + (5, 4) → (5, 4)\\n•\\t(1, 3) + (5, 3) → (5, 3)\\n•\\t(4, 3, 2) + (3, 1) → (4, 3, 2)\\n•\\t(2, 1) + (8, 3, 2, 1) → (8, 3, 2, 1)\\n\\nPad with 1s on the left\\nCompare right to left\\nIf mismatch and no 1 → ❌ error\\n\\n'"
      ]
     },
     "execution_count": 5,
     "metadata": {},
     "output_type": "execute_result"
    }
   ],
   "source": [
    "\"\"\"\n",
    "NumPy Broadcasting Rules\n",
    "\t1.\tAlign shapes from right → left\n",
    "\t•\tIf shapes don’t have same length, pad the smaller one with 1s on the left.\n",
    "\t2.\tDimension compatibility\n",
    "\t•\t✅ Dimensions are equal\n",
    "\t•\t✅ OR one of them is 1\n",
    "\t•\t❌ Otherwise → error\n",
    "\t3.\tStretch where dimension = 1\n",
    "\t•\tNumPy repeats the data along that axis to match the bigger size.\n",
    "\t4.\tFinal output shape\n",
    "\t•\tTake the largest size in each dimension after broadcasting.\n",
    "\n",
    "Quick Examples\n",
    "•\t(5, 3) + (3,) → (5, 3)\n",
    "•\t(5, 1) + (5, 4) → (5, 4)\n",
    "•\t(1, 3) + (5, 3) → (5, 3)\n",
    "•\t(4, 3, 2) + (3, 1) → (4, 3, 2)\n",
    "•\t(2, 1) + (8, 3, 2, 1) → (8, 3, 2, 1)\n",
    "\n",
    "Pad with 1s on the left\n",
    "Compare right to left\n",
    "If mismatch and no 1 → ❌ error\n",
    "\n",
    "\"\"\""
   ]
  }
 ],
 "metadata": {
  "kernelspec": {
   "display_name": ".venv",
   "language": "python",
   "name": "python3"
  },
  "language_info": {
   "codemirror_mode": {
    "name": "ipython",
    "version": 3
   },
   "file_extension": ".py",
   "mimetype": "text/x-python",
   "name": "python",
   "nbconvert_exporter": "python",
   "pygments_lexer": "ipython3",
   "version": "3.12.3"
  }
 },
 "nbformat": 4,
 "nbformat_minor": 5
}
