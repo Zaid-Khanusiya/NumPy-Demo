{
 "cells": [
  {
   "cell_type": "code",
   "execution_count": 1,
   "id": "b9198c38",
   "metadata": {},
   "outputs": [],
   "source": [
    "import numpy as np"
   ]
  },
  {
   "cell_type": "code",
   "execution_count": 2,
   "id": "d6b8204e",
   "metadata": {},
   "outputs": [
    {
     "name": "stdout",
     "output_type": "stream",
     "text": [
      "<class 'numpy.ndarray'> [1 2 3 4 5 6 7 8 9 0]\n"
     ]
    }
   ],
   "source": [
    "# making a basic 1d numpy array\n",
    "array_lst = [1,2,3,4,5,6,7,8,9,0]\n",
    "np_arr = np.array(array_lst)\n",
    "print(type(np_arr), np_arr)"
   ]
  },
  {
   "cell_type": "code",
   "execution_count": 3,
   "id": "27b2e749",
   "metadata": {},
   "outputs": [
    {
     "name": "stdout",
     "output_type": "stream",
     "text": [
      "Zero Array: \n",
      " [[0. 0. 0.]\n",
      " [0. 0. 0.]]\n",
      "Ones Array: \n",
      " [[1. 1. 1.]\n",
      " [1. 1. 1.]\n",
      " [1. 1. 1.]]\n",
      "Constant Array: \n",
      " [[7 7]\n",
      " [7 7]]\n",
      "Range Array: \n",
      " [0 2 4 6 8]\n",
      "Linspace Array: \n",
      " [0.   0.25 0.5  0.75 1.  ]\n"
     ]
    }
   ],
   "source": [
    "# Different Types of NumPy Arrays\n",
    "zeros_array = np.zeros((2, 3))\n",
    "ones_array = np.ones((3, 3))\n",
    "constant_array = np.full((2, 2), 7)  # dimensions, the fill value\n",
    "range_array = np.arange(0, 10, 2)  # start, stop, step\n",
    "linspace_array = np.linspace(0, 1, 5)  # start, stop, num\n",
    "\n",
    "print(\"Zero Array:\",\"\\n\",zeros_array)\n",
    "print(\"Ones Array:\",\"\\n\",ones_array)\n",
    "print(\"Constant Array:\",\"\\n\",constant_array)\n",
    "print(\"Range Array:\",\"\\n\",range_array)\n",
    "print(\"Linspace Array:\",\"\\n\",linspace_array)"
   ]
  },
  {
   "cell_type": "code",
   "execution_count": 4,
   "id": "febbd200",
   "metadata": {},
   "outputs": [
    {
     "name": "stdout",
     "output_type": "stream",
     "text": [
      "[4 5 6 7 8]\n"
     ]
    }
   ],
   "source": [
    "# array slicing is just like string slicing\n",
    "sliced_arr1 = np_arr[-7:8:1]\n",
    "print(sliced_arr1)"
   ]
  },
  {
   "cell_type": "code",
   "execution_count": 5,
   "id": "8aabb0f5",
   "metadata": {},
   "outputs": [
    {
     "name": "stdout",
     "output_type": "stream",
     "text": [
      "[1 4 6]\n"
     ]
    }
   ],
   "source": [
    "# 2d array indexing\n",
    "a = np.array([[1 ,2 ],[3 ,4 ],[5 ,6 ]])\n",
    "\"\"\"\n",
    "a = \n",
    "[1, 2]\n",
    "[3, 4]\n",
    "[5, 6]\n",
    "\"\"\"\n",
    "print(a[[0 ,1 ,2 ],[0 ,1 ,1]]) # this selects [row(x),row(y),etc...], [column(x),column(y),etc...] --> together they form = (row(x),column(x)),(row(y),column(y)),etc...\n"
   ]
  },
  {
   "cell_type": "code",
   "execution_count": 6,
   "id": "8debb136",
   "metadata": {},
   "outputs": [
    {
     "name": "stdout",
     "output_type": "stream",
     "text": [
      "(2, 4)\n"
     ]
    }
   ],
   "source": [
    "# array shapes\n",
    "b = np.array([[1, 2, 3, 4], [5, 6, 7, 8]])\n",
    "\"\"\"\n",
    "b = \n",
    "[1, 2, 3, 4]\n",
    "[5, 6, 7, 8]\n",
    "-> hence shape = 2 x 4\n",
    "\"\"\"\n",
    "print(b.shape)"
   ]
  },
  {
   "cell_type": "code",
   "execution_count": null,
   "id": "fe8b67ab",
   "metadata": {},
   "outputs": [
    {
     "name": "stdout",
     "output_type": "stream",
     "text": [
      "[[ 1  2  3  4]\n",
      " [ 5  6  7  8]\n",
      " [ 9 10 11 12]] \n",
      "\n",
      "[[[ 1  2]\n",
      "  [ 3  4]\n",
      "  [ 5  6]]\n",
      "\n",
      " [[ 7  8]\n",
      "  [ 9 10]\n",
      "  [11 12]]] \n",
      "\n",
      "[1 2 3 4 5 6 7 8] \n",
      "\n",
      "[[1 2 3 4]\n",
      " [5 6 7 8]] \n",
      "\n"
     ]
    }
   ],
   "source": [
    "# array reshaping\n",
    "c = np.array([1, 2, 3, 4, 5, 6, 7, 8, 9, 10, 11, 12])\n",
    "arr_2d = c.reshape(3, 4) # if number of new array elemnts and old array elements dont match it will give error so (4,3) is ok but (3,3)or(4,4) will error\n",
    "print(arr_2d,'\\n')\n",
    "\n",
    "# reshape from 1d to 3d\n",
    "d = np.array([1, 2, 3, 4, 5, 6, 7, 8, 9, 10, 11, 12])\n",
    "arr_3d = d.reshape(2, 3, 2)\n",
    "print(arr_3d,'\\n')\n",
    "\n",
    "# .base function\n",
    "e = np.array([1, 2, 3, 4, 5, 6, 7, 8])\n",
    "print(e.reshape(2, 4).base,'\\n') # this .base tells on what is the new modified array based on\n",
    "print(e.reshape(2, 4),'\\n') # this will output the new modified array"
   ]
  }
 ],
 "metadata": {
  "kernelspec": {
   "display_name": ".venv",
   "language": "python",
   "name": "python3"
  },
  "language_info": {
   "codemirror_mode": {
    "name": "ipython",
    "version": 3
   },
   "file_extension": ".py",
   "mimetype": "text/x-python",
   "name": "python",
   "nbconvert_exporter": "python",
   "pygments_lexer": "ipython3",
   "version": "3.12.3"
  }
 },
 "nbformat": 4,
 "nbformat_minor": 5
}
