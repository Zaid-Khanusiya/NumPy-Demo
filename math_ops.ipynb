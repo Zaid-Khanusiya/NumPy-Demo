{
 "cells": [
  {
   "cell_type": "code",
   "execution_count": null,
   "id": "0a516fa9",
   "metadata": {},
   "outputs": [],
   "source": [
    "import numpy as np"
   ]
  },
  {
   "cell_type": "code",
   "execution_count": null,
   "id": "02b24b09",
   "metadata": {},
   "outputs": [
    {
     "name": "stdout",
     "output_type": "stream",
     "text": [
      "[  7  77  23 130]\n",
      "[ 3 67  3 70]\n",
      "[  10  360  130 3000]\n",
      "[ 2.5        14.4         1.3         3.33333333]\n",
      "[ 1  2  3 10]\n"
     ]
    }
   ],
   "source": [
    "# numpy 2 arrays basic ops\n",
    "a = np.array([5, 72, 13, 100])\n",
    "b = np.array([2, 5, 10, 30])\n",
    "\n",
    "add_ans = np.add(a, b)\n",
    "print(add_ans)\n",
    "\n",
    "sub_ans = np.subtract(a, b)\n",
    "print(sub_ans)\n",
    "\n",
    "multiply_ans = np.multiply(a, b)\n",
    "print(multiply_ans)\n",
    "\n",
    "div_ans = np.divide(a, b)\n",
    "print(div_ans)\n",
    "\n",
    "mod_ans = np.mod(a, b) # mod = modulus\n",
    "print(mod_ans)"
   ]
  },
  {
   "cell_type": "code",
   "execution_count": 12,
   "id": "53345903",
   "metadata": {},
   "outputs": [
    {
     "name": "stdout",
     "output_type": "stream",
     "text": [
      "[0 1 2 3 4 5 6 7 8 9]\n",
      "\n",
      "Mean:  4.5\n",
      "\n",
      "std:  2.8722813232690143\n",
      "\n",
      "variance:  8.25\n",
      "\n",
      "Sum:  45\n"
     ]
    }
   ],
   "source": [
    "# mean, std. deviation, & variance\n",
    "array = np.arange(10)\n",
    "print(array)\n",
    "\n",
    "r1 = np.mean(array)\n",
    "print(\"\\nMean: \", r1)\n",
    "\n",
    "r2 = np.std(array)\n",
    "print(\"\\nstd: \", r2)\n",
    "\n",
    "r3 = np.var(array)\n",
    "print(\"\\nvariance: \", r3)\n",
    "\n",
    "r4 = np.sum(array)\n",
    "print(\"\\nSum: \", r4)"
   ]
  }
 ],
 "metadata": {
  "kernelspec": {
   "display_name": ".venv",
   "language": "python",
   "name": "python3"
  },
  "language_info": {
   "codemirror_mode": {
    "name": "ipython",
    "version": 3
   },
   "file_extension": ".py",
   "mimetype": "text/x-python",
   "name": "python",
   "nbconvert_exporter": "python",
   "pygments_lexer": "ipython3",
   "version": "3.12.3"
  }
 },
 "nbformat": 4,
 "nbformat_minor": 5
}
