{
 "cells": [
  {
   "cell_type": "code",
   "execution_count": 1,
   "id": "3135111f",
   "metadata": {},
   "outputs": [],
   "source": [
    "import numpy as np"
   ]
  },
  {
   "cell_type": "code",
   "execution_count": 9,
   "id": "931fe430",
   "metadata": {},
   "outputs": [
    {
     "name": "stdout",
     "output_type": "stream",
     "text": [
      "Rank of A: 3\n",
      "\n",
      "Trace of A: 11\n",
      "\n",
      "Determinant of A: -306.0\n",
      "\n",
      "Inverse of A:\n",
      " [[ 0.17647059 -0.00326797 -0.02287582]\n",
      " [ 0.05882353 -0.13071895  0.08496732]\n",
      " [-0.11764706  0.1503268   0.05228758]]\n",
      "\n",
      "Tranpose of A:\n",
      " [[ 6  4  2]\n",
      " [ 1 -2  8]\n",
      " [ 1  5  7]]\n",
      "\n",
      "Matrix A raised to power 2:\n",
      " [[42 12 18]\n",
      " [26 48 29]\n",
      " [58 42 91]]\n"
     ]
    }
   ],
   "source": [
    "A = np.array([[6, 1, 1],\n",
    "              [4, -2, 5],\n",
    "              [2, 8, 7]])\n",
    " \n",
    "# Rank of a matrix\n",
    "print(\"Rank of A:\", np.linalg.matrix_rank(A))\n",
    " \n",
    "# Trace of matrix A\n",
    "print(\"\\nTrace of A:\", np.trace(A))\n",
    " \n",
    "# Determinant of a matrix\n",
    "print(\"\\nDeterminant of A:\", np.linalg.det(A))\n",
    " \n",
    "# Inverse of matrix A\n",
    "print(\"\\nInverse of A:\\n\", np.linalg.inv(A))\n",
    "\n",
    "# transpose of matrix A\n",
    "print(\"\\nTranpose of A:\\n\", np.linalg.matrix_transpose(A))\n",
    " \n",
    "# matrix multiplication works like this C[0,0] = 6*6 + 1*4 + 1*2 = 36 + 4 + 2 = 42 --for this above matrix example :)\n",
    "print(\"\\nMatrix A raised to power 2:\\n\",\n",
    "           np.linalg.matrix_power(A, 2))"
   ]
  },
  {
   "cell_type": "code",
   "execution_count": 13,
   "id": "131279ca",
   "metadata": {},
   "outputs": [
    {
     "name": "stdout",
     "output_type": "stream",
     "text": [
      "Dot Product of scalar values  :  20\n",
      "Dot Product  :  (-7+22j)\n"
     ]
    }
   ],
   "source": [
    "# dot product of scalar and vectors\n",
    "product = np.dot(5, 4)\n",
    "print(\"Dot Product of scalar values  : \", product)\n",
    "\n",
    "vector_a = 2 + 3j\n",
    "vector_b = 4 + 5j\n",
    "\n",
    "product = np.dot(vector_a, vector_b)\n",
    "print(\"Dot Product  : \", product)"
   ]
  }
 ],
 "metadata": {
  "kernelspec": {
   "display_name": ".venv",
   "language": "python",
   "name": "python3"
  },
  "language_info": {
   "codemirror_mode": {
    "name": "ipython",
    "version": 3
   },
   "file_extension": ".py",
   "mimetype": "text/x-python",
   "name": "python",
   "nbconvert_exporter": "python",
   "pygments_lexer": "ipython3",
   "version": "3.12.3"
  }
 },
 "nbformat": 4,
 "nbformat_minor": 5
}
